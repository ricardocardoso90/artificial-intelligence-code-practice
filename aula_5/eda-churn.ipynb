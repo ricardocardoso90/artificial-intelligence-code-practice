{
 "cells": [
  {
   "cell_type": "code",
   "execution_count": null,
   "id": "1a8427fe",
   "metadata": {},
   "outputs": [],
   "source": [
    "import pandas as pd;"
   ]
  }
 ],
 "metadata": {
  "language_info": {
   "name": "python"
  }
 },
 "nbformat": 4,
 "nbformat_minor": 5
}
